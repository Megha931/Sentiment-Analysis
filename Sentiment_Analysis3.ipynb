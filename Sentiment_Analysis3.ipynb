{
 "cells": [
  {
   "cell_type": "code",
   "execution_count": 1,
   "id": "38bd0225-f082-4e19-8c33-0c27bb2ea249",
   "metadata": {},
   "outputs": [],
   "source": [
    "import sys, os, json"
   ]
  },
  {
   "cell_type": "code",
   "execution_count": 2,
   "id": "1cdb8212-3096-47e3-b155-162a9c0c4e7c",
   "metadata": {},
   "outputs": [],
   "source": [
    "sys.path.append(r'C:\\Users\\Shubham Yadav\\Desktop\\Minor Project')\n",
    "\n",
    "\n"
   ]
  },
  {
   "cell_type": "code",
   "execution_count": 3,
   "id": "26141c42-dade-4d29-83e2-ba4af11b6074",
   "metadata": {},
   "outputs": [
    {
     "name": "stderr",
     "output_type": "stream",
     "text": [
      "[nltk_data] Downloading package opinion_lexicon to C:\\Users\\Shubham\n",
      "[nltk_data]     Yadav\\AppData\\Roaming\\nltk_data...\n",
      "[nltk_data]   Package opinion_lexicon is already up-to-date!\n"
     ]
    },
    {
     "data": {
      "text/plain": [
       "True"
      ]
     },
     "execution_count": 3,
     "metadata": {},
     "output_type": "execute_result"
    }
   ],
   "source": [
    "import pandas as pd\n",
    "from sklearn import preprocessing\n",
    "import nltk\n",
    "nltk.download('opinion_lexicon')"
   ]
  },
  {
   "cell_type": "code",
   "execution_count": 4,
   "id": "dd98a027-a34a-453d-a159-363513f4eec9",
   "metadata": {},
   "outputs": [],
   "source": [
    "df = pd.read_csv('balanced_dataset.csv')"
   ]
  },
  {
   "cell_type": "code",
   "execution_count": 5,
   "id": "19646575-9fcd-4de6-826a-e5de971d5b21",
   "metadata": {},
   "outputs": [
    {
     "name": "stdout",
     "output_type": "stream",
     "text": [
      "Index(['Rate', 'Review', 'Summary', 'sentiment'], dtype='object')\n"
     ]
    }
   ],
   "source": [
    "\n",
    "print(df.columns)\n"
   ]
  },
  {
   "cell_type": "code",
   "execution_count": 6,
   "id": "1a0b5fd2-6456-4c1d-b1f5-2a14ff3abfc1",
   "metadata": {},
   "outputs": [],
   "source": [
    "df = df.drop(columns=['sentiment'])"
   ]
  },
  {
   "cell_type": "code",
   "execution_count": 7,
   "id": "054d4e72-98d0-4052-8260-8ea631feb3cf",
   "metadata": {},
   "outputs": [],
   "source": [
    "df = df.rename(columns={'Review': 'text'})"
   ]
  },
  {
   "cell_type": "code",
   "execution_count": 8,
   "id": "d057c706-1c0f-4a6e-b8d8-59d0c9396914",
   "metadata": {},
   "outputs": [
    {
     "data": {
      "text/html": [
       "<div>\n",
       "<style scoped>\n",
       "    .dataframe tbody tr th:only-of-type {\n",
       "        vertical-align: middle;\n",
       "    }\n",
       "\n",
       "    .dataframe tbody tr th {\n",
       "        vertical-align: top;\n",
       "    }\n",
       "\n",
       "    .dataframe thead th {\n",
       "        text-align: right;\n",
       "    }\n",
       "</style>\n",
       "<table border=\"1\" class=\"dataframe\">\n",
       "  <thead>\n",
       "    <tr style=\"text-align: right;\">\n",
       "      <th></th>\n",
       "      <th>Rate</th>\n",
       "      <th>text</th>\n",
       "      <th>Summary</th>\n",
       "    </tr>\n",
       "  </thead>\n",
       "  <tbody>\n",
       "    <tr>\n",
       "      <th>37727</th>\n",
       "      <td>1.0</td>\n",
       "      <td>Not recommended at all</td>\n",
       "      <td>Not good very low</td>\n",
       "    </tr>\n",
       "    <tr>\n",
       "      <th>23153</th>\n",
       "      <td>5.0</td>\n",
       "      <td>Super!</td>\n",
       "      <td>100% original. Thanks Flipkart</td>\n",
       "    </tr>\n",
       "    <tr>\n",
       "      <th>57015</th>\n",
       "      <td>3.0</td>\n",
       "      <td>Decent product</td>\n",
       "      <td>Print Quality not good</td>\n",
       "    </tr>\n",
       "    <tr>\n",
       "      <th>60742</th>\n",
       "      <td>1.0</td>\n",
       "      <td>Not recommended at all</td>\n",
       "      <td>Poor Quality</td>\n",
       "    </tr>\n",
       "    <tr>\n",
       "      <th>16258</th>\n",
       "      <td>4.0</td>\n",
       "      <td>Value-for-money</td>\n",
       "      <td>Good Product. Delivery was very satisfying. Ve...</td>\n",
       "    </tr>\n",
       "    <tr>\n",
       "      <th>14918</th>\n",
       "      <td>5.0</td>\n",
       "      <td>Worth every penny</td>\n",
       "      <td>Nyc product,gud delivery boy, thanks Flipkart</td>\n",
       "    </tr>\n",
       "    <tr>\n",
       "      <th>50154</th>\n",
       "      <td>3.0</td>\n",
       "      <td>Decent product</td>\n",
       "      <td>Nice but rate so high..</td>\n",
       "    </tr>\n",
       "    <tr>\n",
       "      <th>19961</th>\n",
       "      <td>5.0</td>\n",
       "      <td>Terrific purchase</td>\n",
       "      <td>I m happy to buy this</td>\n",
       "    </tr>\n",
       "    <tr>\n",
       "      <th>55464</th>\n",
       "      <td>2.0</td>\n",
       "      <td>Bad quality</td>\n",
       "      <td>Their is and issue in sound so my request is y...</td>\n",
       "    </tr>\n",
       "    <tr>\n",
       "      <th>16390</th>\n",
       "      <td>5.0</td>\n",
       "      <td>Best in the market!</td>\n",
       "      <td>Excellent productEasily usable????</td>\n",
       "    </tr>\n",
       "    <tr>\n",
       "      <th>59595</th>\n",
       "      <td>1.0</td>\n",
       "      <td>Very poor</td>\n",
       "      <td>Geyser was good the installation was pathetic</td>\n",
       "    </tr>\n",
       "    <tr>\n",
       "      <th>12371</th>\n",
       "      <td>5.0</td>\n",
       "      <td>Simply awesome</td>\n",
       "      <td>my 1st dslr..</td>\n",
       "    </tr>\n",
       "    <tr>\n",
       "      <th>25016</th>\n",
       "      <td>4.0</td>\n",
       "      <td>Pretty good</td>\n",
       "      <td>This is very good product Thanks flipkart</td>\n",
       "    </tr>\n",
       "    <tr>\n",
       "      <th>44570</th>\n",
       "      <td>1.0</td>\n",
       "      <td>Very poor</td>\n",
       "      <td>It's a waste products it's not reached my expe...</td>\n",
       "    </tr>\n",
       "    <tr>\n",
       "      <th>26568</th>\n",
       "      <td>4.0</td>\n",
       "      <td>Very Good</td>\n",
       "      <td>it's nice one</td>\n",
       "    </tr>\n",
       "    <tr>\n",
       "      <th>32714</th>\n",
       "      <td>3.0</td>\n",
       "      <td>Just okay</td>\n",
       "      <td>quality not good for this quality 500 is enoug...</td>\n",
       "    </tr>\n",
       "    <tr>\n",
       "      <th>34854</th>\n",
       "      <td>3.0</td>\n",
       "      <td>Does the job</td>\n",
       "      <td>Too heavy</td>\n",
       "    </tr>\n",
       "    <tr>\n",
       "      <th>51231</th>\n",
       "      <td>1.0</td>\n",
       "      <td>Utterly Disappointed</td>\n",
       "      <td>Adaptor was not working</td>\n",
       "    </tr>\n",
       "    <tr>\n",
       "      <th>52029</th>\n",
       "      <td>1.0</td>\n",
       "      <td>Worthless</td>\n",
       "      <td>Worst product, 3 inch shorter in height and no...</td>\n",
       "    </tr>\n",
       "    <tr>\n",
       "      <th>39490</th>\n",
       "      <td>1.0</td>\n",
       "      <td>Not recommended at all</td>\n",
       "      <td>Very dissatisfied with this product. Reasons1....</td>\n",
       "    </tr>\n",
       "  </tbody>\n",
       "</table>\n",
       "</div>"
      ],
      "text/plain": [
       "       Rate                    text  \\\n",
       "37727   1.0  Not recommended at all   \n",
       "23153   5.0                  Super!   \n",
       "57015   3.0          Decent product   \n",
       "60742   1.0  Not recommended at all   \n",
       "16258   4.0         Value-for-money   \n",
       "14918   5.0       Worth every penny   \n",
       "50154   3.0          Decent product   \n",
       "19961   5.0       Terrific purchase   \n",
       "55464   2.0             Bad quality   \n",
       "16390   5.0     Best in the market!   \n",
       "59595   1.0               Very poor   \n",
       "12371   5.0          Simply awesome   \n",
       "25016   4.0             Pretty good   \n",
       "44570   1.0               Very poor   \n",
       "26568   4.0               Very Good   \n",
       "32714   3.0               Just okay   \n",
       "34854   3.0            Does the job   \n",
       "51231   1.0    Utterly Disappointed   \n",
       "52029   1.0               Worthless   \n",
       "39490   1.0  Not recommended at all   \n",
       "\n",
       "                                                 Summary  \n",
       "37727                                  Not good very low  \n",
       "23153                     100% original. Thanks Flipkart  \n",
       "57015                             Print Quality not good  \n",
       "60742                                       Poor Quality  \n",
       "16258  Good Product. Delivery was very satisfying. Ve...  \n",
       "14918      Nyc product,gud delivery boy, thanks Flipkart  \n",
       "50154                            Nice but rate so high..  \n",
       "19961                              I m happy to buy this  \n",
       "55464  Their is and issue in sound so my request is y...  \n",
       "16390                 Excellent productEasily usable????  \n",
       "59595      Geyser was good the installation was pathetic  \n",
       "12371                                      my 1st dslr..  \n",
       "25016          This is very good product Thanks flipkart  \n",
       "44570  It's a waste products it's not reached my expe...  \n",
       "26568                                      it's nice one  \n",
       "32714  quality not good for this quality 500 is enoug...  \n",
       "34854                                          Too heavy  \n",
       "51231                            Adaptor was not working  \n",
       "52029  Worst product, 3 inch shorter in height and no...  \n",
       "39490  Very dissatisfied with this product. Reasons1....  "
      ]
     },
     "execution_count": 8,
     "metadata": {},
     "output_type": "execute_result"
    }
   ],
   "source": [
    "df.sample(20)"
   ]
  },
  {
   "cell_type": "code",
   "execution_count": 9,
   "id": "de0812a8-88df-44f1-89ee-757a2ae6bf81",
   "metadata": {},
   "outputs": [],
   "source": [
    "from nltk.corpus import opinion_lexicon\n",
    "from nltk.tokenize import word_tokenize"
   ]
  },
  {
   "cell_type": "code",
   "execution_count": 10,
   "id": "998ccedf-b349-4b7d-a43c-53f1a50086fd",
   "metadata": {},
   "outputs": [
    {
     "name": "stdout",
     "output_type": "stream",
     "text": [
      "Total number of words in opinion lexicon 6789\n",
      "Examples of positive words in opinion lexicon ['a+', 'abound', 'abounds', 'abundance', 'abundant']\n",
      "Examples of negative words in opinion lexicon ['2-faced', '2-faces', 'abnormal', 'abolish', 'abominable']\n"
     ]
    }
   ],
   "source": [
    "print('Total number of words in opinion lexicon', len(opinion_lexicon.words()))\n",
    "print('Examples of positive words in opinion lexicon',\n",
    "      opinion_lexicon.positive()[:5])\n",
    "print('Examples of negative words in opinion lexicon',\n",
    "      opinion_lexicon.negative()[:5])\n",
    "\n"
   ]
  },
  {
   "cell_type": "code",
   "execution_count": 11,
   "id": "bc533d01-9a67-48d8-8ea1-de5883afa9f6",
   "metadata": {},
   "outputs": [
    {
     "name": "stderr",
     "output_type": "stream",
     "text": [
      "[nltk_data] Downloading package opinion_lexicon to C:\\Users\\Shubham\n",
      "[nltk_data]     Yadav\\AppData\\Roaming\\nltk_data...\n",
      "[nltk_data]   Package opinion_lexicon is already up-to-date!\n"
     ]
    },
    {
     "data": {
      "text/plain": [
       "True"
      ]
     },
     "execution_count": 11,
     "metadata": {},
     "output_type": "execute_result"
    }
   ],
   "source": [
    "import nltk\n",
    "nltk.download('opinion_lexicon')\n",
    "\n"
   ]
  },
  {
   "cell_type": "code",
   "execution_count": 12,
   "id": "9d52ccf5-796c-4ec0-9beb-63b4a36fe2af",
   "metadata": {},
   "outputs": [
    {
     "name": "stdout",
     "output_type": "stream",
     "text": [
      "6786\n"
     ]
    }
   ],
   "source": [
    "word_dict = {}\n",
    "pos_score = 1  # Positive score\n",
    "neg_score = -1  # Negative score\n",
    "\n",
    "# Add positive words to word_dict\n",
    "for word in opinion_lexicon.positive():\n",
    "    word_dict[word] = pos_score\n",
    "\n",
    "# Add negative words to word_dict\n",
    "for word in opinion_lexicon.negative():\n",
    "    word_dict[word] = neg_score\n",
    "\n",
    "print(len(word_dict))  # Check how many words are in the dictionary\n"
   ]
  },
  {
   "cell_type": "code",
   "execution_count": 13,
   "id": "b4d9637d-34d8-43af-a9e1-42a426e05c70",
   "metadata": {},
   "outputs": [
    {
     "name": "stdout",
     "output_type": "stream",
     "text": [
      "1\n"
     ]
    }
   ],
   "source": [
    "print(df['text'].isnull().sum())  # Should be 0 if there are no missing values\n"
   ]
  },
  {
   "cell_type": "code",
   "execution_count": 14,
   "id": "cac9b820-7519-4701-a379-8be47112b494",
   "metadata": {},
   "outputs": [],
   "source": [
    "df['text'] = df['text'].fillna(\"\")  # Replace NaN with an empty string\n",
    "\n",
    "\n"
   ]
  },
  {
   "cell_type": "code",
   "execution_count": 15,
   "id": "0fd6ef0e-7c68-41b5-9bdc-e83f2f50a71f",
   "metadata": {},
   "outputs": [
    {
     "name": "stdout",
     "output_type": "stream",
     "text": [
      "0\n"
     ]
    }
   ],
   "source": [
    "print(df['text'].isnull().sum()) "
   ]
  },
  {
   "cell_type": "code",
   "execution_count": 16,
   "id": "d534d2b2-0b22-49b2-a79c-5a50f7d836ac",
   "metadata": {},
   "outputs": [
    {
     "name": "stderr",
     "output_type": "stream",
     "text": [
      "[nltk_data] Downloading package punkt to C:\\Users\\Shubham\n",
      "[nltk_data]     Yadav\\AppData\\Roaming\\nltk_data...\n",
      "[nltk_data]   Package punkt is already up-to-date!\n"
     ]
    },
    {
     "data": {
      "text/plain": [
       "True"
      ]
     },
     "execution_count": 16,
     "metadata": {},
     "output_type": "execute_result"
    }
   ],
   "source": [
    "import nltk\n",
    "nltk.download('punkt')\n"
   ]
  },
  {
   "cell_type": "code",
   "execution_count": 17,
   "id": "f295d14d-dec5-45ee-9d89-81afca19f06c",
   "metadata": {},
   "outputs": [
    {
     "name": "stderr",
     "output_type": "stream",
     "text": [
      "[nltk_data] Downloading package punkt to C:\\Users\\Shubham\n",
      "[nltk_data]     Yadav\\AppData\\Roaming\\nltk_data...\n",
      "[nltk_data]   Package punkt is already up-to-date!\n"
     ]
    },
    {
     "data": {
      "text/plain": [
       "True"
      ]
     },
     "execution_count": 17,
     "metadata": {},
     "output_type": "execute_result"
    }
   ],
   "source": [
    "nltk.download('punkt', quiet=False)\n",
    "\n"
   ]
  },
  {
   "cell_type": "code",
   "execution_count": 18,
   "id": "3be664e5-5757-4427-bc2a-8ec5b91175df",
   "metadata": {},
   "outputs": [
    {
     "name": "stderr",
     "output_type": "stream",
     "text": [
      "[nltk_data] Downloading package punkt to C:\\Users\\Shubham\n",
      "[nltk_data]     Yadav\\AppData\\Roaming\\nltk_data...\n",
      "[nltk_data]   Package punkt is already up-to-date!\n"
     ]
    },
    {
     "data": {
      "text/plain": [
       "True"
      ]
     },
     "execution_count": 18,
     "metadata": {},
     "output_type": "execute_result"
    }
   ],
   "source": [
    "import nltk\n",
    "nltk.data.path.append(r\"C:\\Users\\Shubham Yadav\\Desktop\\Minor Project\")  # Or any other directory where nltk_data is stored.\n",
    "nltk.download('punkt')\n"
   ]
  },
  {
   "cell_type": "code",
   "execution_count": null,
   "id": "8e5ed951-2d27-4422-907d-1011323e885c",
   "metadata": {},
   "outputs": [],
   "source": [
    "!pip uninstall nltk\n",
    "\n"
   ]
  },
  {
   "cell_type": "code",
   "execution_count": null,
   "id": "ce4d1349-01f8-427e-ade0-271430670a42",
   "metadata": {},
   "outputs": [],
   "source": [
    "!pip install nltk"
   ]
  },
  {
   "cell_type": "code",
   "execution_count": null,
   "id": "b2a80a1b-0591-494c-bec6-029d8eeff2dc",
   "metadata": {},
   "outputs": [],
   "source": [
    "from nltk.tokenize import word_tokenize\n",
    "\n",
    "# Example tokenization\n",
    "example_text = \"This is a great product!\"\n",
    "tokens = word_tokenize(example_text.lower())\n",
    "print(tokens)  # Should print ['this', 'is', 'a', 'great', 'product', '!']\n",
    "\n"
   ]
  },
  {
   "cell_type": "code",
   "execution_count": null,
   "id": "40c39b3e-8629-4787-8b7f-6d2c744bdf80",
   "metadata": {},
   "outputs": [],
   "source": [
    "def bing_liu_score(text):\n",
    "    sentiment_score = 0\n",
    "    bag_of_words = word_tokenize(text.lower())  # Tokenize and convert to lowercase\n",
    "    word_count = len(bag_of_words)\n",
    "    \n",
    "    if word_count == 0:  # To avoid division by zero if text is empty\n",
    "        return 0\n",
    "    \n",
    "    for word in bag_of_words:\n",
    "        if word in word_dict:\n",
    "            sentiment_score += word_dict[word]\n",
    "    \n",
    "    return sentiment_score / word_count\n"
   ]
  },
  {
   "cell_type": "code",
   "execution_count": null,
   "id": "8d273c95-9c8c-44f3-8755-42b52fb7d540",
   "metadata": {},
   "outputs": [],
   "source": [
    "df['Bing_Liu_Score'] = df['text'].apply(bing_liu_score)\n",
    "\n",
    "# Display results\n",
    "print(df[['Rate','text', 'Summary','Bing_Liu_Score']].head(10)"
   ]
  },
  {
   "cell_type": "code",
   "execution_count": null,
   "id": "3d2a6d76-492f-44de-a174-d4d932c77adf",
   "metadata": {},
   "outputs": [],
   "source": []
  }
 ],
 "metadata": {
  "kernelspec": {
   "display_name": "Python 3 (ipykernel)",
   "language": "python",
   "name": "python3"
  },
  "language_info": {
   "codemirror_mode": {
    "name": "ipython",
    "version": 3
   },
   "file_extension": ".py",
   "mimetype": "text/x-python",
   "name": "python",
   "nbconvert_exporter": "python",
   "pygments_lexer": "ipython3",
   "version": "3.12.3"
  }
 },
 "nbformat": 4,
 "nbformat_minor": 5
}
