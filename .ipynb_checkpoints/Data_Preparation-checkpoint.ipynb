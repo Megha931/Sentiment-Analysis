{
 "cells": [
  {
   "cell_type": "code",
   "execution_count": 76,
   "id": "57ccb841-0115-4f50-8a2a-b6af1c09ce6b",
   "metadata": {},
   "outputs": [
    {
     "name": "stdout",
     "output_type": "stream",
     "text": [
      "                                         ProductName     Price Rate  \\\n",
      "0  Candes 12 L Room/Personal Air Cooler?ÿ?ÿ(White...  ??3,999    5   \n",
      "1  Candes 12 L Room/Personal Air Cooler?ÿ?ÿ(White...  ??3,999    5   \n",
      "2  Candes 12 L Room/Personal Air Cooler?ÿ?ÿ(White...  ??3,999    3   \n",
      "3  Candes 12 L Room/Personal Air Cooler?ÿ?ÿ(White...  ??3,999    1   \n",
      "4  Candes 12 L Room/Personal Air Cooler?ÿ?ÿ(White...  ??3,999    3   \n",
      "\n",
      "            Review                                            Summary  \n",
      "0           Super!  Great cooler.. excellent air flow and for this...  \n",
      "1          Awesome             Best budget 2 fit cooler. Nice cooling  \n",
      "2             Fair  The quality is good but the power of air is de...  \n",
      "3  Useless product                 Very bad product it's a only a fan  \n",
      "4             Fair                                      Ok ok product  \n"
     ]
    }
   ],
   "source": [
    "import pandas as pd\n",
    "\n",
    "# Specify an alternative encoding to read the CSV file\n",
    "data = pd.read_csv('flipkart_product.csv', encoding='ISO-8859-1')\n",
    "\n",
    "# Display the first few rows to verify successful loading\n",
    "print(data.head())\n"
   ]
  },
  {
   "cell_type": "code",
   "execution_count": 77,
   "id": "7282c2e7-86f5-420d-935b-e9b7eefc1204",
   "metadata": {},
   "outputs": [],
   "source": [
    "data = data.drop(columns=['ProductName', 'Price'])\n"
   ]
  },
  {
   "cell_type": "code",
   "execution_count": 78,
   "id": "9f092b8c-7b95-4c94-a01a-226429a4e9a5",
   "metadata": {},
   "outputs": [],
   "source": [
    "data = data.drop_duplicates()\n"
   ]
  },
  {
   "cell_type": "code",
   "execution_count": 80,
   "id": "007578a6-ee27-460d-be54-89255efbc182",
   "metadata": {},
   "outputs": [
    {
     "name": "stdout",
     "output_type": "stream",
     "text": [
      "   Rate           Review                                            Summary  \\\n",
      "0   5.0           Super!  Great cooler.. excellent air flow and for this...   \n",
      "1   5.0          Awesome             Best budget 2 fit cooler. Nice cooling   \n",
      "2   3.0             Fair  The quality is good but the power of air is de...   \n",
      "3   1.0  Useless product                 Very bad product it's a only a fan   \n",
      "4   3.0             Fair                                      Ok ok product   \n",
      "\n",
      "   sentiment  \n",
      "0          1  \n",
      "1          1  \n",
      "2          0  \n",
      "3          0  \n",
      "4          0  \n"
     ]
    }
   ],
   "source": [
    "data['Rate'] = pd.to_numeric(data['Rate'], errors='coerce')\n",
    "\n",
    "# Replace NaN values in 'Rate' if needed (e.g., fill with 0 or drop rows with NaN)\n",
    "# Here, we will drop rows with NaN in the 'Rate' column\n",
    "data = data.dropna(subset=['Rate'])\n",
    "\n",
    "# Label sentiment based on rating\n",
    "data['sentiment'] = 0  # Default to negative sentiment\n",
    "data.loc[data['Rate'] >= 4, 'sentiment'] = 1  # Set positive sentiment for ratings of 4 and 5\n",
    "\n",
    "# Check the result\n",
    "print(data.head())"
   ]
  },
  {
   "cell_type": "code",
   "execution_count": 82,
   "id": "d9f7a687-5ce7-489f-86c1-cbeb5e4cc720",
   "metadata": {},
   "outputs": [
    {
     "name": "stderr",
     "output_type": "stream",
     "text": [
      "[nltk_data] Downloading package punkt to C:\\Users\\Shubham\n",
      "[nltk_data]     Yadav\\AppData\\Roaming\\nltk_data...\n",
      "[nltk_data]   Package punkt is already up-to-date!\n"
     ]
    },
    {
     "data": {
      "text/plain": [
       "True"
      ]
     },
     "execution_count": 82,
     "metadata": {},
     "output_type": "execute_result"
    }
   ],
   "source": [
    "import nltk\n",
    "\n",
    "nltk.download('punkt')\n"
   ]
  },
  {
   "cell_type": "code",
   "execution_count": 89,
   "id": "2f28fd95-0d6c-43bf-a97c-602396cca5ad",
   "metadata": {},
   "outputs": [
    {
     "name": "stderr",
     "output_type": "stream",
     "text": [
      "C:\\Users\\Shubham Yadav\\AppData\\Local\\Temp\\ipykernel_15192\\296912054.py:7: DeprecationWarning: DataFrameGroupBy.apply operated on the grouping columns. This behavior is deprecated, and in a future version of pandas the grouping columns will be excluded from the operation. Either pass `include_groups=False` to exclude the groupings or explicitly select the grouping columns after groupby to silence this warning.\n",
      "  finalDF = data.groupby('sentiment').apply(sampling_k_elements).reset_index(drop=True)\n"
     ]
    }
   ],
   "source": [
    "def sampling_k_elements(group, k=150000):\n",
    "    if len(group) < k:\n",
    "        return group\n",
    "    return group.sample(k, random_state=42)\n",
    "\n",
    "# Balance the dataset by sampling equal positive and negative reviews\n",
    "finalDF = data.groupby('sentiment').apply(sampling_k_elements).reset_index(drop=True)\n"
   ]
  },
  {
   "cell_type": "code",
   "execution_count": 90,
   "id": "aaf2e21c-611d-4d7d-adf2-cf29c1f84a58",
   "metadata": {},
   "outputs": [],
   "source": [
    "finalDF.to_csv('flipkart_reviews_balanced.csv', index=False)\n"
   ]
  },
  {
   "cell_type": "code",
   "execution_count": 91,
   "id": "936f70be-7c27-4089-b99f-112856341f58",
   "metadata": {},
   "outputs": [
    {
     "name": "stdout",
     "output_type": "stream",
     "text": [
      "   Rate           Review                                            Summary  \\\n",
      "0   3.0             Fair  The quality is good but the power of air is de...   \n",
      "1   1.0  Useless product                 Very bad product it's a only a fan   \n",
      "2   3.0             Fair                                      Ok ok product   \n",
      "3   3.0             Nice                                          Very nice   \n",
      "4   1.0   Unsatisfactory                                    Very bad cooler   \n",
      "\n",
      "   sentiment  \n",
      "0          0  \n",
      "1          0  \n",
      "2          0  \n",
      "3          0  \n",
      "4          0  \n",
      "<class 'pandas.core.frame.DataFrame'>\n",
      "RangeIndex: 116936 entries, 0 to 116935\n",
      "Data columns (total 4 columns):\n",
      " #   Column     Non-Null Count   Dtype  \n",
      "---  ------     --------------   -----  \n",
      " 0   Rate       116936 non-null  float64\n",
      " 1   Review     116933 non-null  object \n",
      " 2   Summary    116931 non-null  object \n",
      " 3   sentiment  116936 non-null  int64  \n",
      "dtypes: float64(1), int64(1), object(2)\n",
      "memory usage: 3.6+ MB\n",
      "None\n",
      "sentiment\n",
      "1    86487\n",
      "0    30449\n",
      "Name: count, dtype: int64\n"
     ]
    }
   ],
   "source": [
    "# Preview the final balanced dataset\n",
    "print(finalDF.head())\n",
    "\n",
    "# Check basic information to confirm structure\n",
    "print(finalDF.info())\n",
    "\n",
    "# Display the distribution of sentiment labels\n",
    "print(finalDF['sentiment'].value_counts())\n"
   ]
  },
  {
   "cell_type": "code",
   "execution_count": 94,
   "id": "73de1ede-2935-4f29-8bc4-58c633fbb791",
   "metadata": {},
   "outputs": [
    {
     "name": "stdout",
     "output_type": "stream",
     "text": [
      "(180379, 6)\n"
     ]
    }
   ],
   "source": [
    "import pandas as pd\n",
    "\n",
    "\n",
    "\n",
    "# Drop rows with any missing values\n",
    "df_cleaned = df.dropna()\n",
    "\n",
    "# Check the shape of the new DataFrame\n",
    "print(df_cleaned.shape)\n"
   ]
  },
  {
   "cell_type": "code",
   "execution_count": 96,
   "id": "f9877d43-f2ec-459c-96fc-24ea0bd4523a",
   "metadata": {},
   "outputs": [
    {
     "name": "stdout",
     "output_type": "stream",
     "text": [
      "Collecting imbalanced-learnNote: you may need to restart the kernel to use updated packages.\n",
      "\n",
      "  Downloading imbalanced_learn-0.12.4-py3-none-any.whl.metadata (8.3 kB)\n",
      "Requirement already satisfied: numpy>=1.17.3 in c:\\users\\shubham yadav\\appdata\\local\\programs\\python\\python312\\lib\\site-packages (from imbalanced-learn) (1.26.4)\n",
      "Collecting scipy>=1.5.0 (from imbalanced-learn)\n",
      "  Downloading scipy-1.14.1-cp312-cp312-win_amd64.whl.metadata (60 kB)\n",
      "Collecting scikit-learn>=1.0.2 (from imbalanced-learn)\n",
      "  Downloading scikit_learn-1.5.2-cp312-cp312-win_amd64.whl.metadata (13 kB)\n",
      "Requirement already satisfied: joblib>=1.1.1 in c:\\users\\shubham yadav\\appdata\\local\\programs\\python\\python312\\lib\\site-packages (from imbalanced-learn) (1.4.2)\n",
      "Collecting threadpoolctl>=2.0.0 (from imbalanced-learn)\n",
      "  Downloading threadpoolctl-3.5.0-py3-none-any.whl.metadata (13 kB)\n",
      "Downloading imbalanced_learn-0.12.4-py3-none-any.whl (258 kB)\n",
      "Downloading scikit_learn-1.5.2-cp312-cp312-win_amd64.whl (11.0 MB)\n",
      "   ---------------------------------------- 0.0/11.0 MB ? eta -:--:--\n",
      "   -------- ------------------------------- 2.4/11.0 MB 10.3 MB/s eta 0:00:01\n",
      "   ---------- ----------------------------- 2.9/11.0 MB 8.4 MB/s eta 0:00:01\n",
      "   ------------- -------------------------- 3.7/11.0 MB 5.9 MB/s eta 0:00:02\n",
      "   ------------------ --------------------- 5.0/11.0 MB 5.9 MB/s eta 0:00:02\n",
      "   ------------------------ --------------- 6.8/11.0 MB 6.5 MB/s eta 0:00:01\n",
      "   ---------------------------- ----------- 7.9/11.0 MB 6.6 MB/s eta 0:00:01\n",
      "   -------------------------------- ------- 8.9/11.0 MB 6.1 MB/s eta 0:00:01\n",
      "   ------------------------------------- -- 10.2/11.0 MB 6.1 MB/s eta 0:00:01\n",
      "   ---------------------------------------- 11.0/11.0 MB 6.0 MB/s eta 0:00:00\n",
      "Downloading scipy-1.14.1-cp312-cp312-win_amd64.whl (44.5 MB)\n",
      "   ---------------------------------------- 0.0/44.5 MB ? eta -:--:--\n",
      "   - -------------------------------------- 1.8/44.5 MB 10.0 MB/s eta 0:00:05\n",
      "   -- ------------------------------------- 2.9/44.5 MB 8.4 MB/s eta 0:00:05\n",
      "   --- ------------------------------------ 3.7/44.5 MB 6.4 MB/s eta 0:00:07\n",
      "   ---- ----------------------------------- 5.0/44.5 MB 6.0 MB/s eta 0:00:07\n",
      "   ----- ---------------------------------- 6.6/44.5 MB 6.4 MB/s eta 0:00:06\n",
      "   ------ --------------------------------- 7.6/44.5 MB 6.3 MB/s eta 0:00:06\n",
      "   -------- ------------------------------- 9.2/44.5 MB 6.4 MB/s eta 0:00:06\n",
      "   --------- ------------------------------ 10.2/44.5 MB 6.3 MB/s eta 0:00:06\n",
      "   ---------- ----------------------------- 11.3/44.5 MB 6.1 MB/s eta 0:00:06\n",
      "   ----------- ---------------------------- 12.6/44.5 MB 6.2 MB/s eta 0:00:06\n",
      "   ------------ --------------------------- 13.9/44.5 MB 6.2 MB/s eta 0:00:05\n",
      "   ------------- -------------------------- 14.9/44.5 MB 6.1 MB/s eta 0:00:05\n",
      "   -------------- ------------------------- 15.7/44.5 MB 6.0 MB/s eta 0:00:05\n",
      "   --------------- ------------------------ 17.0/44.5 MB 6.0 MB/s eta 0:00:05\n",
      "   ---------------- ----------------------- 18.6/44.5 MB 6.1 MB/s eta 0:00:05\n",
      "   ------------------ --------------------- 20.2/44.5 MB 6.2 MB/s eta 0:00:04\n",
      "   ------------------ --------------------- 21.0/44.5 MB 6.1 MB/s eta 0:00:04\n",
      "   ------------------- -------------------- 21.8/44.5 MB 6.0 MB/s eta 0:00:04\n",
      "   -------------------- ------------------- 23.1/44.5 MB 5.9 MB/s eta 0:00:04\n",
      "   --------------------- ------------------ 24.4/44.5 MB 6.0 MB/s eta 0:00:04\n",
      "   ----------------------- ---------------- 26.2/44.5 MB 6.1 MB/s eta 0:00:04\n",
      "   ------------------------ --------------- 27.3/44.5 MB 6.1 MB/s eta 0:00:03\n",
      "   ------------------------- -------------- 28.0/44.5 MB 6.0 MB/s eta 0:00:03\n",
      "   -------------------------- ------------- 29.1/44.5 MB 5.9 MB/s eta 0:00:03\n",
      "   --------------------------- ------------ 30.4/44.5 MB 5.9 MB/s eta 0:00:03\n",
      "   ---------------------------- ----------- 31.7/44.5 MB 6.0 MB/s eta 0:00:03\n",
      "   ------------------------------ --------- 33.6/44.5 MB 6.1 MB/s eta 0:00:02\n",
      "   ------------------------------- -------- 34.9/44.5 MB 6.1 MB/s eta 0:00:02\n",
      "   ------------------------------- -------- 35.4/44.5 MB 6.0 MB/s eta 0:00:02\n",
      "   -------------------------------- ------- 36.2/44.5 MB 5.9 MB/s eta 0:00:02\n",
      "   --------------------------------- ------ 37.5/44.5 MB 5.9 MB/s eta 0:00:02\n",
      "   ----------------------------------- ---- 39.3/44.5 MB 6.0 MB/s eta 0:00:01\n",
      "   ------------------------------------ --- 40.6/44.5 MB 6.0 MB/s eta 0:00:01\n",
      "   ------------------------------------- -- 41.4/44.5 MB 6.0 MB/s eta 0:00:01\n",
      "   -------------------------------------- - 42.7/44.5 MB 6.0 MB/s eta 0:00:01\n",
      "   ---------------------------------------  44.3/44.5 MB 6.0 MB/s eta 0:00:01\n",
      "   ---------------------------------------  44.3/44.5 MB 6.0 MB/s eta 0:00:01\n",
      "   ---------------------------------------- 44.5/44.5 MB 5.8 MB/s eta 0:00:00\n",
      "Downloading threadpoolctl-3.5.0-py3-none-any.whl (18 kB)\n",
      "Installing collected packages: threadpoolctl, scipy, scikit-learn, imbalanced-learn\n",
      "Successfully installed imbalanced-learn-0.12.4 scikit-learn-1.5.2 scipy-1.14.1 threadpoolctl-3.5.0\n"
     ]
    }
   ],
   "source": [
    "pip install imbalanced-learn\n"
   ]
  },
  {
   "cell_type": "code",
   "execution_count": 98,
   "id": "8304b1cf-06eb-436a-b29a-ea80ba6ed713",
   "metadata": {},
   "outputs": [
    {
     "name": "stdout",
     "output_type": "stream",
     "text": [
      "sentiment\n",
      "1    86487\n",
      "0    30449\n",
      "Name: count, dtype: int64\n"
     ]
    }
   ],
   "source": [
    "# Display the distribution of sentiment labels\n",
    "print(finalDF['sentiment'].value_counts())\n"
   ]
  },
  {
   "cell_type": "code",
   "execution_count": 113,
   "id": "67a353f0-3819-441e-bb26-8ddf644c545e",
   "metadata": {},
   "outputs": [],
   "source": [
    "# Features (Review and Summary) and target (sentiment)\n",
    "X = finalDF[['Review', 'Summary']]\n",
    "y = finalDF['sentiment']\n"
   ]
  },
  {
   "cell_type": "code",
   "execution_count": 114,
   "id": "72be494b-5109-41d5-b0d4-62114d4e650a",
   "metadata": {},
   "outputs": [
    {
     "name": "stdout",
     "output_type": "stream",
     "text": [
      "sentiment\n",
      "1    30449\n",
      "0    30449\n",
      "Name: count, dtype: int64\n"
     ]
    }
   ],
   "source": [
    "from sklearn.utils import resample\n",
    "\n",
    "# Separate majority and minority classes\n",
    "df_majority = finalDF[finalDF['sentiment'] == 1]\n",
    "df_minority = finalDF[finalDF['sentiment'] == 0]\n",
    "\n",
    "# Downsample majority class\n",
    "df_majority_downsampled = resample(df_majority,\n",
    "                                    replace=False,    # sample without replacement\n",
    "                                    n_samples=len(df_minority),  # to match minority class\n",
    "                                    random_state=42)  # reproducible results\n",
    "\n",
    "# Combine minority class with downsampled majority class\n",
    "finalDF_balanced = pd.concat([df_majority_downsampled, df_minority])\n",
    "\n",
    "# Display new class distribution\n",
    "print(finalDF_balanced['sentiment'].value_counts())\n",
    "\n"
   ]
  },
  {
   "cell_type": "code",
   "execution_count": 115,
   "id": "c3ed0294-5d3c-4488-903f-3c482af967e2",
   "metadata": {},
   "outputs": [
    {
     "name": "stdout",
     "output_type": "stream",
     "text": [
      "sentiment\n",
      "1    30449\n",
      "0    30449\n",
      "Name: count, dtype: int64\n"
     ]
    }
   ],
   "source": [
    "# Check the balanced distribution\n",
    "print(finalDF_balanced['sentiment'].value_counts())\n"
   ]
  },
  {
   "cell_type": "code",
   "execution_count": 116,
   "id": "54979719-e738-4d97-8e04-09040e92c0ff",
   "metadata": {},
   "outputs": [],
   "source": [
    "finalDF_balanced.to_csv('balanced_dataset.csv', index=False)\n"
   ]
  },
  {
   "cell_type": "code",
   "execution_count": 117,
   "id": "6a115cbe-018a-43c9-9349-e9e9764b6cc8",
   "metadata": {},
   "outputs": [
    {
     "name": "stdout",
     "output_type": "stream",
     "text": [
      "sentiment\n",
      "1    30449\n",
      "0    30449\n",
      "Name: count, dtype: int64\n"
     ]
    }
   ],
   "source": [
    "print(finalDF_balanced['sentiment'].value_counts())"
   ]
  },
  {
   "cell_type": "code",
   "execution_count": 121,
   "id": "25162248-3a87-4536-8781-694117f7a198",
   "metadata": {},
   "outputs": [
    {
     "name": "stdout",
     "output_type": "stream",
     "text": [
      "        Rate             Review  \\\n",
      "55752    5.0          Excellent   \n",
      "40271    5.0          Fabulous!   \n",
      "65229    4.0        Really Nice   \n",
      "105812   5.0  Worth every penny   \n",
      "31081    5.0     Classy product   \n",
      "\n",
      "                                                  Summary  sentiment  \n",
      "55752   Good juicer. Easy to use and also clean. Every...          1  \n",
      "40271                        Very good product. Worthful.          1  \n",
      "65229                                       Nice ðð          1  \n",
      "105812         Quality is very good, looking is beautiful          1  \n",
      "31081   Its an awesome product and I am not making any...          1  \n"
     ]
    }
   ],
   "source": [
    "print(finalDF_balanced.head())"
   ]
  },
  {
   "cell_type": "code",
   "execution_count": 122,
   "id": "d4cc68d8-adbd-45d8-a592-4219c9196664",
   "metadata": {},
   "outputs": [
    {
     "name": "stdout",
     "output_type": "stream",
     "text": [
      "<class 'pandas.core.frame.DataFrame'>\n",
      "Index: 60898 entries, 55752 to 30448\n",
      "Data columns (total 4 columns):\n",
      " #   Column     Non-Null Count  Dtype  \n",
      "---  ------     --------------  -----  \n",
      " 0   Rate       60898 non-null  float64\n",
      " 1   Review     60897 non-null  object \n",
      " 2   Summary    60895 non-null  object \n",
      " 3   sentiment  60898 non-null  int64  \n",
      "dtypes: float64(1), int64(1), object(2)\n",
      "memory usage: 2.3+ MB\n",
      "None\n"
     ]
    }
   ],
   "source": [
    "print(finalDF_balanced.info())"
   ]
  },
  {
   "cell_type": "code",
   "execution_count": 123,
   "id": "af25c97f-f2ce-47fa-8007-113bbcfd2636",
   "metadata": {},
   "outputs": [
    {
     "name": "stdout",
     "output_type": "stream",
     "text": [
      "sentiment\n",
      "1    30449\n",
      "0    30449\n",
      "Name: count, dtype: int64\n"
     ]
    }
   ],
   "source": [
    "print(finalDF_balanced['sentiment'].value_counts())"
   ]
  },
  {
   "cell_type": "code",
   "execution_count": null,
   "id": "1c508bcf-c3f3-4337-b6cf-9ed752eca9e4",
   "metadata": {},
   "outputs": [],
   "source": []
  }
 ],
 "metadata": {
  "kernelspec": {
   "display_name": "Python 3 (ipykernel)",
   "language": "python",
   "name": "python3"
  },
  "language_info": {
   "codemirror_mode": {
    "name": "ipython",
    "version": 3
   },
   "file_extension": ".py",
   "mimetype": "text/x-python",
   "name": "python",
   "nbconvert_exporter": "python",
   "pygments_lexer": "ipython3",
   "version": "3.12.3"
  }
 },
 "nbformat": 4,
 "nbformat_minor": 5
}
