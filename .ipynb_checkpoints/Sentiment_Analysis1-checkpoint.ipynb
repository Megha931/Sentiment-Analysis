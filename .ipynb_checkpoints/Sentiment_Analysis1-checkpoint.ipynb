{
 "cells": [
  {
   "cell_type": "code",
   "execution_count": 1,
   "id": "3bc0f854-b40d-4c94-819e-c39d4cda50c5",
   "metadata": {},
   "outputs": [],
   "source": [
    "import nltk"
   ]
  },
  {
   "cell_type": "code",
   "execution_count": 2,
   "id": "6434d5cf-5c4d-45b2-bec5-3b4b6fc82c6b",
   "metadata": {},
   "outputs": [
    {
     "name": "stderr",
     "output_type": "stream",
     "text": [
      "[nltk_data] Downloading package vader_lexicon to C:\\Users\\Shubham\n",
      "[nltk_data]     Yadav\\AppData\\Roaming\\nltk_data...\n"
     ]
    },
    {
     "data": {
      "text/plain": [
       "True"
      ]
     },
     "execution_count": 2,
     "metadata": {},
     "output_type": "execute_result"
    }
   ],
   "source": [
    "nltk.download('vader_lexicon')"
   ]
  },
  {
   "cell_type": "code",
   "execution_count": 3,
   "id": "ba2db0aa-548e-4516-af71-47eedf78eca6",
   "metadata": {},
   "outputs": [],
   "source": [
    "from nltk.sentiment.vader import SentimentIntensityAnalyzer"
   ]
  },
  {
   "cell_type": "code",
   "execution_count": 4,
   "id": "03caccf5-5b63-4d9a-b443-df8e85b265af",
   "metadata": {},
   "outputs": [],
   "source": [
    "analyser  = SentimentIntensityAnalyzer()"
   ]
  },
  {
   "cell_type": "code",
   "execution_count": 5,
   "id": "44fc2f06-4829-4957-9583-f1eb81048c11",
   "metadata": {},
   "outputs": [],
   "source": [
    "a = \"This is a good movie.\""
   ]
  },
  {
   "cell_type": "code",
   "execution_count": 6,
   "id": "8c549163-eca8-47be-b238-67af6a64c4cc",
   "metadata": {},
   "outputs": [
    {
     "data": {
      "text/plain": [
       "{'neg': 0.0, 'neu': 0.508, 'pos': 0.492, 'compound': 0.4404}"
      ]
     },
     "execution_count": 6,
     "metadata": {},
     "output_type": "execute_result"
    }
   ],
   "source": [
    "analyser.polarity_scores(a)"
   ]
  },
  {
   "cell_type": "code",
   "execution_count": 8,
   "id": "b4434c68-e05e-4175-8f1a-ac55fa9cf653",
   "metadata": {},
   "outputs": [],
   "source": [
    "b = \"This was the best, most awesome movie EVER MADE!!!\""
   ]
  },
  {
   "cell_type": "code",
   "execution_count": 9,
   "id": "9975c949-3fce-40a0-aab3-c9bc9e1a48bc",
   "metadata": {},
   "outputs": [
    {
     "data": {
      "text/plain": [
       "{'neg': 0.0, 'neu': 0.425, 'pos': 0.575, 'compound': 0.8877}"
      ]
     },
     "execution_count": 9,
     "metadata": {},
     "output_type": "execute_result"
    }
   ],
   "source": [
    "analyser.polarity_scores(b)"
   ]
  },
  {
   "cell_type": "code",
   "execution_count": 10,
   "id": "e1caf289-bfff-4bf1-aa79-28afc004631e",
   "metadata": {},
   "outputs": [],
   "source": [
    "c = \" This was the WORST movie that has ever disgraced the screen.\""
   ]
  },
  {
   "cell_type": "code",
   "execution_count": 11,
   "id": "0f6572fe-2d8f-4946-8985-660aea7459bd",
   "metadata": {},
   "outputs": [
    {
     "data": {
      "text/plain": [
       "{'neg': 0.465, 'neu': 0.535, 'pos': 0.0, 'compound': -0.8331}"
      ]
     },
     "execution_count": 11,
     "metadata": {},
     "output_type": "execute_result"
    }
   ],
   "source": [
    "analyser.polarity_scores(c)"
   ]
  },
  {
   "cell_type": "code",
   "execution_count": 12,
   "id": "47376d71-4edf-4997-ac3c-b69fde7c19da",
   "metadata": {},
   "outputs": [],
   "source": [
    "import pandas as pd"
   ]
  },
  {
   "cell_type": "code",
   "execution_count": 14,
   "id": "ba289a41-4c35-4126-ab6d-c4efaed50d73",
   "metadata": {},
   "outputs": [],
   "source": [
    "pd.set_option('display.max_rows', None)\n",
    "pd.set_option('display.max_columns', None)\n",
    "pd.set_option('display.width', None)\n",
    "pd.set_option('display.max_colwidth', None)\n",
    "\n",
    "file = \"balanced_dataset.csv\"\n",
    "file = r\"C:\\Users\\Shubham Yadav\\Desktop\\Minor Project\\balanced_dataset.csv\" # location\n",
    "\n"
   ]
  },
  {
   "cell_type": "code",
   "execution_count": 16,
   "id": "5c5ec088-100b-48da-8711-2e8c5bb8fbec",
   "metadata": {},
   "outputs": [],
   "source": [
    "df = pd.read_csv('balanced_dataset.csv')\n"
   ]
  },
  {
   "cell_type": "code",
   "execution_count": 17,
   "id": "ff574b02-e45b-497e-a141-150b7c37d333",
   "metadata": {},
   "outputs": [
    {
     "data": {
      "text/plain": [
       "sentiment\n",
       "1    30449\n",
       "0    30449\n",
       "Name: count, dtype: int64"
      ]
     },
     "execution_count": 17,
     "metadata": {},
     "output_type": "execute_result"
    }
   ],
   "source": [
    "df['sentiment'].value_counts()"
   ]
  },
  {
   "cell_type": "code",
   "execution_count": 19,
   "id": "eddb89d9-ebca-438b-a5c1-9ae211983bf4",
   "metadata": {},
   "outputs": [
    {
     "name": "stdout",
     "output_type": "stream",
     "text": [
      "Index(['Rate', 'Review', 'Summary', 'sentiment'], dtype='object')\n"
     ]
    }
   ],
   "source": [
    "print(df.columns)\n"
   ]
  },
  {
   "cell_type": "code",
   "execution_count": 22,
   "id": "97f2ebe8-274a-4ebd-b7e5-38bb934bd458",
   "metadata": {},
   "outputs": [],
   "source": [
    "df = df.rename(columns={'Review': 'text'})\n"
   ]
  },
  {
   "cell_type": "code",
   "execution_count": 23,
   "id": "5922066a-7b84-4e26-b50e-f8cb33218e8d",
   "metadata": {},
   "outputs": [
    {
     "name": "stdout",
     "output_type": "stream",
     "text": [
      "{'neg': 0.0, 'neu': 0.0, 'pos': 1.0, 'compound': 0.5719}\n"
     ]
    }
   ],
   "source": [
    "from nltk.sentiment.vader import SentimentIntensityAnalyzer\n",
    "\n",
    "# Initialize the sentiment analyzer\n",
    "analyser = SentimentIntensityAnalyzer()\n",
    "\n",
    "# Verify the correct column name, renaming if necessary\n",
    "if 'reviewText' in df.columns:\n",
    "    df = df.rename(columns={'reviewText': 'text'})\n",
    "\n",
    "# Calculate polarity scores for the first review\n",
    "if 'text' in df.columns:\n",
    "    scores = analyser.polarity_scores(df.iloc[0]['text'])\n",
    "    print(scores)\n",
    "else:\n",
    "    print(\"The 'text' column was not found in the DataFrame.\")\n"
   ]
  },
  {
   "cell_type": "code",
   "execution_count": 26,
   "id": "5637478c-0d0d-44df-9ed5-16ca7bbce349",
   "metadata": {},
   "outputs": [
    {
     "data": {
      "text/plain": [
       "'Excellent'"
      ]
     },
     "execution_count": 26,
     "metadata": {},
     "output_type": "execute_result"
    }
   ],
   "source": [
    "df.iloc[0]['text']"
   ]
  },
  {
   "cell_type": "code",
   "execution_count": 28,
   "id": "6ee4b376-4df7-4826-82d7-f8432950b8f5",
   "metadata": {},
   "outputs": [],
   "source": [
    "# Ensure all values in 'text' column are strings, replacing NaNs with empty strings\n",
    "df['text'] = df['text'].fillna(\"\").astype(str)\n",
    "\n",
    "# Apply polarity scores\n",
    "df['scores'] = df['text'].apply(lambda review: analyser.polarity_scores(review))\n"
   ]
  },
  {
   "cell_type": "code",
   "execution_count": 29,
   "id": "8b3c1cb0-774a-4770-b307-253ebbfa0767",
   "metadata": {},
   "outputs": [
    {
     "data": {
      "text/html": [
       "<div>\n",
       "<style scoped>\n",
       "    .dataframe tbody tr th:only-of-type {\n",
       "        vertical-align: middle;\n",
       "    }\n",
       "\n",
       "    .dataframe tbody tr th {\n",
       "        vertical-align: top;\n",
       "    }\n",
       "\n",
       "    .dataframe thead th {\n",
       "        text-align: right;\n",
       "    }\n",
       "</style>\n",
       "<table border=\"1\" class=\"dataframe\">\n",
       "  <thead>\n",
       "    <tr style=\"text-align: right;\">\n",
       "      <th></th>\n",
       "      <th>Rate</th>\n",
       "      <th>text</th>\n",
       "      <th>Summary</th>\n",
       "      <th>sentiment</th>\n",
       "      <th>scores</th>\n",
       "    </tr>\n",
       "  </thead>\n",
       "  <tbody>\n",
       "    <tr>\n",
       "      <th>5800</th>\n",
       "      <td>5.0</td>\n",
       "      <td>Super!</td>\n",
       "      <td>Good and product quality is very good</td>\n",
       "      <td>1</td>\n",
       "      <td>{'neg': 0.0, 'neu': 0.0, 'pos': 1.0, 'compound': 0.636}</td>\n",
       "    </tr>\n",
       "    <tr>\n",
       "      <th>53153</th>\n",
       "      <td>1.0</td>\n",
       "      <td>Unsatisfactory</td>\n",
       "      <td>Dont buy this product</td>\n",
       "      <td>0</td>\n",
       "      <td>{'neg': 0.0, 'neu': 1.0, 'pos': 0.0, 'compound': 0.0}</td>\n",
       "    </tr>\n",
       "    <tr>\n",
       "      <th>43618</th>\n",
       "      <td>3.0</td>\n",
       "      <td>Fair</td>\n",
       "      <td>Nice but not as good as expected</td>\n",
       "      <td>0</td>\n",
       "      <td>{'neg': 0.0, 'neu': 0.0, 'pos': 1.0, 'compound': 0.3182}</td>\n",
       "    </tr>\n",
       "    <tr>\n",
       "      <th>45769</th>\n",
       "      <td>3.0</td>\n",
       "      <td>Decent product</td>\n",
       "      <td>Very bad quality products..... When I fill hot water then the outside become hot..... After 1hr the hot water become cold.... I don't like its....</td>\n",
       "      <td>0</td>\n",
       "      <td>{'neg': 0.0, 'neu': 1.0, 'pos': 0.0, 'compound': 0.0}</td>\n",
       "    </tr>\n",
       "    <tr>\n",
       "      <th>46751</th>\n",
       "      <td>1.0</td>\n",
       "      <td>Waste of money!</td>\n",
       "      <td>dont buy i got only 5 kg sak</td>\n",
       "      <td>0</td>\n",
       "      <td>{'neg': 0.607, 'neu': 0.393, 'pos': 0.0, 'compound': -0.4753}</td>\n",
       "    </tr>\n",
       "    <tr>\n",
       "      <th>48926</th>\n",
       "      <td>1.0</td>\n",
       "      <td>Nan</td>\n",
       "      <td>Very nice pad</td>\n",
       "      <td>0</td>\n",
       "      <td>{'neg': 0.0, 'neu': 1.0, 'pos': 0.0, 'compound': 0.0}</td>\n",
       "    </tr>\n",
       "    <tr>\n",
       "      <th>27262</th>\n",
       "      <td>5.0</td>\n",
       "      <td>Awesome</td>\n",
       "      <td>Very good product at this price range âºï¸âºï¸..</td>\n",
       "      <td>1</td>\n",
       "      <td>{'neg': 0.0, 'neu': 0.0, 'pos': 1.0, 'compound': 0.6249}</td>\n",
       "    </tr>\n",
       "    <tr>\n",
       "      <th>4458</th>\n",
       "      <td>4.0</td>\n",
       "      <td>Good quality product</td>\n",
       "      <td>Super ...... product.....</td>\n",
       "      <td>1</td>\n",
       "      <td>{'neg': 0.0, 'neu': 0.408, 'pos': 0.592, 'compound': 0.4404}</td>\n",
       "    </tr>\n",
       "    <tr>\n",
       "      <th>12531</th>\n",
       "      <td>5.0</td>\n",
       "      <td>Terrific</td>\n",
       "      <td>Perfect Fitting ð¥°</td>\n",
       "      <td>1</td>\n",
       "      <td>{'neg': 0.0, 'neu': 0.0, 'pos': 1.0, 'compound': 0.4767}</td>\n",
       "    </tr>\n",
       "    <tr>\n",
       "      <th>303</th>\n",
       "      <td>5.0</td>\n",
       "      <td>Awesome</td>\n",
       "      <td>Good meterial ok</td>\n",
       "      <td>1</td>\n",
       "      <td>{'neg': 0.0, 'neu': 0.0, 'pos': 1.0, 'compound': 0.6249}</td>\n",
       "    </tr>\n",
       "  </tbody>\n",
       "</table>\n",
       "</div>"
      ],
      "text/plain": [
       "       Rate                  text  \\\n",
       "5800    5.0                Super!   \n",
       "53153   1.0        Unsatisfactory   \n",
       "43618   3.0                  Fair   \n",
       "45769   3.0        Decent product   \n",
       "46751   1.0       Waste of money!   \n",
       "48926   1.0                   Nan   \n",
       "27262   5.0               Awesome   \n",
       "4458    4.0  Good quality product   \n",
       "12531   5.0              Terrific   \n",
       "303     5.0               Awesome   \n",
       "\n",
       "                                                                                                                                                  Summary  \\\n",
       "5800                                                                                                                Good and product quality is very good   \n",
       "53153                                                                                                                               Dont buy this product   \n",
       "43618                                                                                                                    Nice but not as good as expected   \n",
       "45769  Very bad quality products..... When I fill hot water then the outside become hot..... After 1hr the hot water become cold.... I don't like its....   \n",
       "46751                                                                                                                        dont buy i got only 5 kg sak   \n",
       "48926                                                                                                                                       Very nice pad   \n",
       "27262                                                                                                Very good product at this price range âºï¸âºï¸..   \n",
       "4458                                                                                                                            Super ...... product.....   \n",
       "12531                                                                                                                                Perfect Fitting ð¥°   \n",
       "303                                                                                                                                      Good meterial ok   \n",
       "\n",
       "       sentiment  \\\n",
       "5800           1   \n",
       "53153          0   \n",
       "43618          0   \n",
       "45769          0   \n",
       "46751          0   \n",
       "48926          0   \n",
       "27262          1   \n",
       "4458           1   \n",
       "12531          1   \n",
       "303            1   \n",
       "\n",
       "                                                              scores  \n",
       "5800         {'neg': 0.0, 'neu': 0.0, 'pos': 1.0, 'compound': 0.636}  \n",
       "53153          {'neg': 0.0, 'neu': 1.0, 'pos': 0.0, 'compound': 0.0}  \n",
       "43618       {'neg': 0.0, 'neu': 0.0, 'pos': 1.0, 'compound': 0.3182}  \n",
       "45769          {'neg': 0.0, 'neu': 1.0, 'pos': 0.0, 'compound': 0.0}  \n",
       "46751  {'neg': 0.607, 'neu': 0.393, 'pos': 0.0, 'compound': -0.4753}  \n",
       "48926          {'neg': 0.0, 'neu': 1.0, 'pos': 0.0, 'compound': 0.0}  \n",
       "27262       {'neg': 0.0, 'neu': 0.0, 'pos': 1.0, 'compound': 0.6249}  \n",
       "4458    {'neg': 0.0, 'neu': 0.408, 'pos': 0.592, 'compound': 0.4404}  \n",
       "12531       {'neg': 0.0, 'neu': 0.0, 'pos': 1.0, 'compound': 0.4767}  \n",
       "303         {'neg': 0.0, 'neu': 0.0, 'pos': 1.0, 'compound': 0.6249}  "
      ]
     },
     "execution_count": 29,
     "metadata": {},
     "output_type": "execute_result"
    }
   ],
   "source": [
    "df.sample(10)"
   ]
  },
  {
   "cell_type": "code",
   "execution_count": 30,
   "id": "b973cbc9-a33a-46d0-a70f-bfcba43badad",
   "metadata": {},
   "outputs": [],
   "source": [
    "\n",
    "df['compound'] = df['scores'].apply(lambda d: d['compound'])"
   ]
  },
  {
   "cell_type": "code",
   "execution_count": 31,
   "id": "8de6737a-75b2-45e1-848f-886d87c712e1",
   "metadata": {},
   "outputs": [
    {
     "data": {
      "text/html": [
       "<div>\n",
       "<style scoped>\n",
       "    .dataframe tbody tr th:only-of-type {\n",
       "        vertical-align: middle;\n",
       "    }\n",
       "\n",
       "    .dataframe tbody tr th {\n",
       "        vertical-align: top;\n",
       "    }\n",
       "\n",
       "    .dataframe thead th {\n",
       "        text-align: right;\n",
       "    }\n",
       "</style>\n",
       "<table border=\"1\" class=\"dataframe\">\n",
       "  <thead>\n",
       "    <tr style=\"text-align: right;\">\n",
       "      <th></th>\n",
       "      <th>Rate</th>\n",
       "      <th>text</th>\n",
       "      <th>Summary</th>\n",
       "      <th>sentiment</th>\n",
       "      <th>scores</th>\n",
       "      <th>compound</th>\n",
       "    </tr>\n",
       "  </thead>\n",
       "  <tbody>\n",
       "    <tr>\n",
       "      <th>60696</th>\n",
       "      <td>3.0</td>\n",
       "      <td>Nice</td>\n",
       "      <td>Size too much Small otherwise too good product</td>\n",
       "      <td>0</td>\n",
       "      <td>{'neg': 0.0, 'neu': 0.0, 'pos': 1.0, 'compound': 0.4215}</td>\n",
       "      <td>0.4215</td>\n",
       "    </tr>\n",
       "    <tr>\n",
       "      <th>60764</th>\n",
       "      <td>2.0</td>\n",
       "      <td>Moderate</td>\n",
       "      <td>No difference ..smell is good</td>\n",
       "      <td>0</td>\n",
       "      <td>{'neg': 0.0, 'neu': 1.0, 'pos': 0.0, 'compound': 0.0}</td>\n",
       "      <td>0.0000</td>\n",
       "    </tr>\n",
       "    <tr>\n",
       "      <th>26745</th>\n",
       "      <td>5.0</td>\n",
       "      <td>Awesome</td>\n",
       "      <td>Extremely happy with the product. And packing was amazing. Very happy with the product and packaging. Thank you seller and Flipkart. ð</td>\n",
       "      <td>1</td>\n",
       "      <td>{'neg': 0.0, 'neu': 0.0, 'pos': 1.0, 'compound': 0.6249}</td>\n",
       "      <td>0.6249</td>\n",
       "    </tr>\n",
       "    <tr>\n",
       "      <th>26805</th>\n",
       "      <td>5.0</td>\n",
       "      <td>Brilliant</td>\n",
       "      <td>Good cloth</td>\n",
       "      <td>1</td>\n",
       "      <td>{'neg': 0.0, 'neu': 0.0, 'pos': 1.0, 'compound': 0.5859}</td>\n",
       "      <td>0.5859</td>\n",
       "    </tr>\n",
       "    <tr>\n",
       "      <th>41042</th>\n",
       "      <td>2.0</td>\n",
       "      <td>Bad quality, drivers faililng within 2 weeks of usage</td>\n",
       "      <td>Not even a month into buying it and its already showing issues, from my search online I see its drivers are faulty and need a replacement. Avoid, if you can.</td>\n",
       "      <td>0</td>\n",
       "      <td>{'neg': 0.333, 'neu': 0.667, 'pos': 0.0, 'compound': -0.5423}</td>\n",
       "      <td>-0.5423</td>\n",
       "    </tr>\n",
       "    <tr>\n",
       "      <th>31791</th>\n",
       "      <td>3.0</td>\n",
       "      <td>Nice</td>\n",
       "      <td>It's good one</td>\n",
       "      <td>0</td>\n",
       "      <td>{'neg': 0.0, 'neu': 0.0, 'pos': 1.0, 'compound': 0.4215}</td>\n",
       "      <td>0.4215</td>\n",
       "    </tr>\n",
       "    <tr>\n",
       "      <th>32938</th>\n",
       "      <td>1.0</td>\n",
       "      <td>Worst experience ever!</td>\n",
       "      <td>Very thin product</td>\n",
       "      <td>0</td>\n",
       "      <td>{'neg': 0.687, 'neu': 0.313, 'pos': 0.0, 'compound': -0.6588}</td>\n",
       "      <td>-0.6588</td>\n",
       "    </tr>\n",
       "    <tr>\n",
       "      <th>3094</th>\n",
       "      <td>4.0</td>\n",
       "      <td>Nice product</td>\n",
       "      <td>Very nice and affordable product...</td>\n",
       "      <td>1</td>\n",
       "      <td>{'neg': 0.0, 'neu': 0.263, 'pos': 0.737, 'compound': 0.4215}</td>\n",
       "      <td>0.4215</td>\n",
       "    </tr>\n",
       "    <tr>\n",
       "      <th>47173</th>\n",
       "      <td>2.0</td>\n",
       "      <td>Nan</td>\n",
       "      <td>Cloth is nice but not fitting properly stitching size is lesser than they mentioned</td>\n",
       "      <td>0</td>\n",
       "      <td>{'neg': 0.0, 'neu': 1.0, 'pos': 0.0, 'compound': 0.0}</td>\n",
       "      <td>0.0000</td>\n",
       "    </tr>\n",
       "    <tr>\n",
       "      <th>12682</th>\n",
       "      <td>5.0</td>\n",
       "      <td>Just wow!</td>\n",
       "      <td>Excellent router at this price......price is reasonable. Top notch performance. Easy to set it up. I am using it for 2 days and the speed I am receiving from this router is superb as my Internet plan is limited upto 22 mbps but when I am using this wifi router to surf internet, Im getting 35-40 mbps of speed which is miracle. The range of this router is great. Overall im happy. If you want to buy a single band router then surely without any second thought go for this router.</td>\n",
       "      <td>1</td>\n",
       "      <td>{'neg': 0.0, 'neu': 0.196, 'pos': 0.804, 'compound': 0.6239}</td>\n",
       "      <td>0.6239</td>\n",
       "    </tr>\n",
       "  </tbody>\n",
       "</table>\n",
       "</div>"
      ],
      "text/plain": [
       "       Rate                                                   text  \\\n",
       "60696   3.0                                                   Nice   \n",
       "60764   2.0                                               Moderate   \n",
       "26745   5.0                                                Awesome   \n",
       "26805   5.0                                              Brilliant   \n",
       "41042   2.0  Bad quality, drivers faililng within 2 weeks of usage   \n",
       "31791   3.0                                                   Nice   \n",
       "32938   1.0                                 Worst experience ever!   \n",
       "3094    4.0                                           Nice product   \n",
       "47173   2.0                                                    Nan   \n",
       "12682   5.0                                              Just wow!   \n",
       "\n",
       "                                                                                                                                                                                                                                                                                                                                                                                                                                                                                               Summary  \\\n",
       "60696                                                                                                                                                                                                                                                                                                                                                                                                                                                   Size too much Small otherwise too good product   \n",
       "60764                                                                                                                                                                                                                                                                                                                                                                                                                                                                    No difference ..smell is good   \n",
       "26745                                                                                                                                                                                                                                                                                                                                                        Extremely happy with the product. And packing was amazing. Very happy with the product and packaging. Thank you seller and Flipkart. ð   \n",
       "26805                                                                                                                                                                                                                                                                                                                                                                                                                                                                                       Good cloth   \n",
       "41042                                                                                                                                                                                                                                                                                                                                    Not even a month into buying it and its already showing issues, from my search online I see its drivers are faulty and need a replacement. Avoid, if you can.   \n",
       "31791                                                                                                                                                                                                                                                                                                                                                                                                                                                                                    It's good one   \n",
       "32938                                                                                                                                                                                                                                                                                                                                                                                                                                                                                Very thin product   \n",
       "3094                                                                                                                                                                                                                                                                                                                                                                                                                                                               Very nice and affordable product...   \n",
       "47173                                                                                                                                                                                                                                                                                                                                                                                                              Cloth is nice but not fitting properly stitching size is lesser than they mentioned   \n",
       "12682  Excellent router at this price......price is reasonable. Top notch performance. Easy to set it up. I am using it for 2 days and the speed I am receiving from this router is superb as my Internet plan is limited upto 22 mbps but when I am using this wifi router to surf internet, Im getting 35-40 mbps of speed which is miracle. The range of this router is great. Overall im happy. If you want to buy a single band router then surely without any second thought go for this router.   \n",
       "\n",
       "       sentiment  \\\n",
       "60696          0   \n",
       "60764          0   \n",
       "26745          1   \n",
       "26805          1   \n",
       "41042          0   \n",
       "31791          0   \n",
       "32938          0   \n",
       "3094           1   \n",
       "47173          0   \n",
       "12682          1   \n",
       "\n",
       "                                                              scores  compound  \n",
       "60696       {'neg': 0.0, 'neu': 0.0, 'pos': 1.0, 'compound': 0.4215}    0.4215  \n",
       "60764          {'neg': 0.0, 'neu': 1.0, 'pos': 0.0, 'compound': 0.0}    0.0000  \n",
       "26745       {'neg': 0.0, 'neu': 0.0, 'pos': 1.0, 'compound': 0.6249}    0.6249  \n",
       "26805       {'neg': 0.0, 'neu': 0.0, 'pos': 1.0, 'compound': 0.5859}    0.5859  \n",
       "41042  {'neg': 0.333, 'neu': 0.667, 'pos': 0.0, 'compound': -0.5423}   -0.5423  \n",
       "31791       {'neg': 0.0, 'neu': 0.0, 'pos': 1.0, 'compound': 0.4215}    0.4215  \n",
       "32938  {'neg': 0.687, 'neu': 0.313, 'pos': 0.0, 'compound': -0.6588}   -0.6588  \n",
       "3094    {'neg': 0.0, 'neu': 0.263, 'pos': 0.737, 'compound': 0.4215}    0.4215  \n",
       "47173          {'neg': 0.0, 'neu': 1.0, 'pos': 0.0, 'compound': 0.0}    0.0000  \n",
       "12682   {'neg': 0.0, 'neu': 0.196, 'pos': 0.804, 'compound': 0.6239}    0.6239  "
      ]
     },
     "execution_count": 31,
     "metadata": {},
     "output_type": "execute_result"
    }
   ],
   "source": [
    "df.sample(10)"
   ]
  },
  {
   "cell_type": "code",
   "execution_count": 32,
   "id": "0c7c9067-cc28-47d8-afba-0f183b6d4dd4",
   "metadata": {},
   "outputs": [],
   "source": [
    "df['comp_score'] = df['compound'].apply(lambda score: 'pos' if score>=0 else 'neg')"
   ]
  },
  {
   "cell_type": "code",
   "execution_count": 33,
   "id": "f3b7cac5-01c0-4c19-b261-00ad5d414261",
   "metadata": {},
   "outputs": [
    {
     "data": {
      "text/html": [
       "<div>\n",
       "<style scoped>\n",
       "    .dataframe tbody tr th:only-of-type {\n",
       "        vertical-align: middle;\n",
       "    }\n",
       "\n",
       "    .dataframe tbody tr th {\n",
       "        vertical-align: top;\n",
       "    }\n",
       "\n",
       "    .dataframe thead th {\n",
       "        text-align: right;\n",
       "    }\n",
       "</style>\n",
       "<table border=\"1\" class=\"dataframe\">\n",
       "  <thead>\n",
       "    <tr style=\"text-align: right;\">\n",
       "      <th></th>\n",
       "      <th>Rate</th>\n",
       "      <th>text</th>\n",
       "      <th>Summary</th>\n",
       "      <th>sentiment</th>\n",
       "      <th>scores</th>\n",
       "      <th>compound</th>\n",
       "      <th>comp_score</th>\n",
       "    </tr>\n",
       "  </thead>\n",
       "  <tbody>\n",
       "    <tr>\n",
       "      <th>28129</th>\n",
       "      <td>5.0</td>\n",
       "      <td>Fabulous!</td>\n",
       "      <td>This product is very good</td>\n",
       "      <td>1</td>\n",
       "      <td>{'neg': 0.0, 'neu': 0.0, 'pos': 1.0, 'compound': 0.5707}</td>\n",
       "      <td>0.5707</td>\n",
       "      <td>pos</td>\n",
       "    </tr>\n",
       "    <tr>\n",
       "      <th>34751</th>\n",
       "      <td>3.0</td>\n",
       "      <td>Good</td>\n",
       "      <td>Bat is good but bag and gloves are poor and ther is return on sticker of bat that this is english wellow that is totally rong  nice for only low level maches</td>\n",
       "      <td>0</td>\n",
       "      <td>{'neg': 0.0, 'neu': 0.0, 'pos': 1.0, 'compound': 0.4404}</td>\n",
       "      <td>0.4404</td>\n",
       "      <td>pos</td>\n",
       "    </tr>\n",
       "    <tr>\n",
       "      <th>17720</th>\n",
       "      <td>5.0</td>\n",
       "      <td>Simply awesome</td>\n",
       "      <td>Received in a good condition and fresh stems .</td>\n",
       "      <td>1</td>\n",
       "      <td>{'neg': 0.0, 'neu': 0.196, 'pos': 0.804, 'compound': 0.6249}</td>\n",
       "      <td>0.6249</td>\n",
       "      <td>pos</td>\n",
       "    </tr>\n",
       "    <tr>\n",
       "      <th>36875</th>\n",
       "      <td>3.0</td>\n",
       "      <td>Fair</td>\n",
       "      <td>Used only a few times , rice is sticky but could be done right with correct amount of water but couldn't figure out correct ratio , takes time to heat up , after 5 or 7 minutes water will start boiling. But cheap and helped in a hard situation.</td>\n",
       "      <td>0</td>\n",
       "      <td>{'neg': 0.0, 'neu': 0.0, 'pos': 1.0, 'compound': 0.3182}</td>\n",
       "      <td>0.3182</td>\n",
       "      <td>pos</td>\n",
       "    </tr>\n",
       "    <tr>\n",
       "      <th>16662</th>\n",
       "      <td>5.0</td>\n",
       "      <td>Nan</td>\n",
       "      <td>nice quality and good clothes quality</td>\n",
       "      <td>1</td>\n",
       "      <td>{'neg': 0.0, 'neu': 1.0, 'pos': 0.0, 'compound': 0.0}</td>\n",
       "      <td>0.0000</td>\n",
       "      <td>pos</td>\n",
       "    </tr>\n",
       "    <tr>\n",
       "      <th>31988</th>\n",
       "      <td>3.0</td>\n",
       "      <td>Nice</td>\n",
       "      <td>Average</td>\n",
       "      <td>0</td>\n",
       "      <td>{'neg': 0.0, 'neu': 0.0, 'pos': 1.0, 'compound': 0.4215}</td>\n",
       "      <td>0.4215</td>\n",
       "      <td>pos</td>\n",
       "    </tr>\n",
       "    <tr>\n",
       "      <th>6413</th>\n",
       "      <td>5.0</td>\n",
       "      <td>Great product</td>\n",
       "      <td>Very good product and perfect finishing</td>\n",
       "      <td>1</td>\n",
       "      <td>{'neg': 0.0, 'neu': 0.196, 'pos': 0.804, 'compound': 0.6249}</td>\n",
       "      <td>0.6249</td>\n",
       "      <td>pos</td>\n",
       "    </tr>\n",
       "    <tr>\n",
       "      <th>44337</th>\n",
       "      <td>3.0</td>\n",
       "      <td>Nice</td>\n",
       "      <td>It was good ???thnx flipkart</td>\n",
       "      <td>0</td>\n",
       "      <td>{'neg': 0.0, 'neu': 0.0, 'pos': 1.0, 'compound': 0.4215}</td>\n",
       "      <td>0.4215</td>\n",
       "      <td>pos</td>\n",
       "    </tr>\n",
       "    <tr>\n",
       "      <th>51920</th>\n",
       "      <td>1.0</td>\n",
       "      <td>Terrible product</td>\n",
       "      <td>Very bad ????????????????????</td>\n",
       "      <td>0</td>\n",
       "      <td>{'neg': 0.756, 'neu': 0.244, 'pos': 0.0, 'compound': -0.4767}</td>\n",
       "      <td>-0.4767</td>\n",
       "      <td>neg</td>\n",
       "    </tr>\n",
       "    <tr>\n",
       "      <th>33499</th>\n",
       "      <td>3.0</td>\n",
       "      <td>Good</td>\n",
       "      <td>Useful Product</td>\n",
       "      <td>0</td>\n",
       "      <td>{'neg': 0.0, 'neu': 0.0, 'pos': 1.0, 'compound': 0.4404}</td>\n",
       "      <td>0.4404</td>\n",
       "      <td>pos</td>\n",
       "    </tr>\n",
       "  </tbody>\n",
       "</table>\n",
       "</div>"
      ],
      "text/plain": [
       "       Rate              text  \\\n",
       "28129   5.0         Fabulous!   \n",
       "34751   3.0              Good   \n",
       "17720   5.0    Simply awesome   \n",
       "36875   3.0              Fair   \n",
       "16662   5.0               Nan   \n",
       "31988   3.0              Nice   \n",
       "6413    5.0     Great product   \n",
       "44337   3.0              Nice   \n",
       "51920   1.0  Terrible product   \n",
       "33499   3.0              Good   \n",
       "\n",
       "                                                                                                                                                                                                                                                    Summary  \\\n",
       "28129                                                                                                                                                                                                                             This product is very good   \n",
       "34751                                                                                         Bat is good but bag and gloves are poor and ther is return on sticker of bat that this is english wellow that is totally rong  nice for only low level maches   \n",
       "17720                                                                                                                                                                                                        Received in a good condition and fresh stems .   \n",
       "36875  Used only a few times , rice is sticky but could be done right with correct amount of water but couldn't figure out correct ratio , takes time to heat up , after 5 or 7 minutes water will start boiling. But cheap and helped in a hard situation.   \n",
       "16662                                                                                                                                                                                                                 nice quality and good clothes quality   \n",
       "31988                                                                                                                                                                                                                                               Average   \n",
       "6413                                                                                                                                                                                                                Very good product and perfect finishing   \n",
       "44337                                                                                                                                                                                                                         It was good ???thnx flipkart   \n",
       "51920                                                                                                                                                                                                                         Very bad ????????????????????   \n",
       "33499                                                                                                                                                                                                                                        Useful Product   \n",
       "\n",
       "       sentiment  \\\n",
       "28129          1   \n",
       "34751          0   \n",
       "17720          1   \n",
       "36875          0   \n",
       "16662          1   \n",
       "31988          0   \n",
       "6413           1   \n",
       "44337          0   \n",
       "51920          0   \n",
       "33499          0   \n",
       "\n",
       "                                                              scores  \\\n",
       "28129       {'neg': 0.0, 'neu': 0.0, 'pos': 1.0, 'compound': 0.5707}   \n",
       "34751       {'neg': 0.0, 'neu': 0.0, 'pos': 1.0, 'compound': 0.4404}   \n",
       "17720   {'neg': 0.0, 'neu': 0.196, 'pos': 0.804, 'compound': 0.6249}   \n",
       "36875       {'neg': 0.0, 'neu': 0.0, 'pos': 1.0, 'compound': 0.3182}   \n",
       "16662          {'neg': 0.0, 'neu': 1.0, 'pos': 0.0, 'compound': 0.0}   \n",
       "31988       {'neg': 0.0, 'neu': 0.0, 'pos': 1.0, 'compound': 0.4215}   \n",
       "6413    {'neg': 0.0, 'neu': 0.196, 'pos': 0.804, 'compound': 0.6249}   \n",
       "44337       {'neg': 0.0, 'neu': 0.0, 'pos': 1.0, 'compound': 0.4215}   \n",
       "51920  {'neg': 0.756, 'neu': 0.244, 'pos': 0.0, 'compound': -0.4767}   \n",
       "33499       {'neg': 0.0, 'neu': 0.0, 'pos': 1.0, 'compound': 0.4404}   \n",
       "\n",
       "       compound comp_score  \n",
       "28129    0.5707        pos  \n",
       "34751    0.4404        pos  \n",
       "17720    0.6249        pos  \n",
       "36875    0.3182        pos  \n",
       "16662    0.0000        pos  \n",
       "31988    0.4215        pos  \n",
       "6413     0.6249        pos  \n",
       "44337    0.4215        pos  \n",
       "51920   -0.4767        neg  \n",
       "33499    0.4404        pos  "
      ]
     },
     "execution_count": 33,
     "metadata": {},
     "output_type": "execute_result"
    }
   ],
   "source": [
    "df.sample(10)"
   ]
  },
  {
   "cell_type": "code",
   "execution_count": 34,
   "id": "c0ed85f9-66be-447d-8fa8-94aa6d6d4753",
   "metadata": {},
   "outputs": [],
   "source": [
    "from sklearn.metrics import accuracy_score,classification_report,confusion_matrix"
   ]
  },
  {
   "cell_type": "code",
   "execution_count": 36,
   "id": "67c5eb37-8495-4e24-adba-5b2fef8387f4",
   "metadata": {},
   "outputs": [
    {
     "name": "stdout",
     "output_type": "stream",
     "text": [
      "0.6961640776380177\n"
     ]
    }
   ],
   "source": [
    "# Map integer sentiment labels to corresponding string labels\n",
    "df['sentiment'] = df['sentiment'].map({0: 'neg', 1: 'pos'})\n",
    "\n",
    "# Calculate accuracy\n",
    "print(accuracy_score(df['sentiment'], df['comp_score']))\n"
   ]
  },
  {
   "cell_type": "code",
   "execution_count": 37,
   "id": "c48a8be8-abe7-4704-81af-90ac99749fbf",
   "metadata": {},
   "outputs": [
    {
     "name": "stdout",
     "output_type": "stream",
     "text": [
      "              precision    recall  f1-score   support\n",
      "\n",
      "         neg       1.00      0.39      0.56     30449\n",
      "         pos       0.62      1.00      0.77     30449\n",
      "\n",
      "    accuracy                           0.70     60898\n",
      "   macro avg       0.81      0.70      0.67     60898\n",
      "weighted avg       0.81      0.70      0.67     60898\n",
      "\n"
     ]
    }
   ],
   "source": [
    "print(classification_report(df['sentiment'],df['comp_score']))"
   ]
  },
  {
   "cell_type": "code",
   "execution_count": 38,
   "id": "e97361fa-2e78-406f-94c7-d6e1eafdcdc3",
   "metadata": {},
   "outputs": [
    {
     "name": "stdout",
     "output_type": "stream",
     "text": [
      "[[11964 18485]\n",
      " [   18 30431]]\n"
     ]
    }
   ],
   "source": [
    "print(confusion_matrix(df['sentiment'],df['comp_score']))"
   ]
  },
  {
   "cell_type": "code",
   "execution_count": null,
   "id": "6e13e2c2-5c61-4175-9ed6-8e8cd45a00d8",
   "metadata": {},
   "outputs": [],
   "source": []
  }
 ],
 "metadata": {
  "kernelspec": {
   "display_name": "Python 3 (ipykernel)",
   "language": "python",
   "name": "python3"
  },
  "language_info": {
   "codemirror_mode": {
    "name": "ipython",
    "version": 3
   },
   "file_extension": ".py",
   "mimetype": "text/x-python",
   "name": "python",
   "nbconvert_exporter": "python",
   "pygments_lexer": "ipython3",
   "version": "3.12.3"
  }
 },
 "nbformat": 4,
 "nbformat_minor": 5
}
